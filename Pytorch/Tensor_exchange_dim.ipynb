{
 "cells": [
  {
   "cell_type": "markdown",
   "source": [
    "# Tensor Exchange Dimension"
   ],
   "metadata": {}
  },
  {
   "cell_type": "code",
   "execution_count": 2,
   "source": [
    "import torch\n",
    "import numpy as np"
   ],
   "outputs": [],
   "metadata": {}
  },
  {
   "cell_type": "code",
   "execution_count": 3,
   "source": [
    "tensor_a = torch.randn(2,4,2,2)\n",
    "tensor_b = torch.randn(2,4,3,3)\n",
    "print(\"tensor_a.size()=\", tensor_a.size())\n",
    "print(\"tensor_b.size()=\", tensor_b.size())\n",
    "print(\"---------------------------------------------------------------\")\n",
    "print(tensor_a)\n",
    "print(\"---------------------------------------------------------------\")\n",
    "print(tensor_b)"
   ],
   "outputs": [
    {
     "output_type": "stream",
     "name": "stdout",
     "text": [
      "tensor_a.size()= torch.Size([2, 4, 2, 2])\n",
      "tensor_b.size()= torch.Size([2, 4, 3, 3])\n",
      "---------------------------------------------------------------\n",
      "tensor([[[[-0.7536,  0.3687],\n",
      "          [-1.7762, -1.7377]],\n",
      "\n",
      "         [[ 0.3315, -0.4378],\n",
      "          [-0.3665, -0.7352]],\n",
      "\n",
      "         [[-0.3099,  0.0761],\n",
      "          [ 0.5110,  0.2858]],\n",
      "\n",
      "         [[ 0.8917, -1.2555],\n",
      "          [-1.6571,  0.8179]]],\n",
      "\n",
      "\n",
      "        [[[-0.5506, -0.5262],\n",
      "          [-0.2250,  1.3002]],\n",
      "\n",
      "         [[ 1.6878, -2.6623],\n",
      "          [ 0.1684,  0.3415]],\n",
      "\n",
      "         [[-0.3902, -1.2010],\n",
      "          [ 0.7101,  0.8836]],\n",
      "\n",
      "         [[ 1.1402,  1.0461],\n",
      "          [-0.1573,  0.1047]]]])\n",
      "---------------------------------------------------------------\n",
      "tensor([[[[ 0.1888,  2.6757,  1.2602],\n",
      "          [-1.8848, -0.6938, -0.1510],\n",
      "          [ 1.4332,  0.7185, -0.1870]],\n",
      "\n",
      "         [[ 1.1423,  0.6607,  0.8465],\n",
      "          [-0.3815,  1.1218,  0.0252],\n",
      "          [-1.0943, -0.1172, -2.1024]],\n",
      "\n",
      "         [[ 0.9375, -1.1554,  0.0150],\n",
      "          [-2.3767, -0.8489,  1.2063],\n",
      "          [-0.0512, -1.0059, -0.5746]],\n",
      "\n",
      "         [[ 0.2986, -0.2816, -1.2573],\n",
      "          [-0.3426,  1.0423,  0.6789],\n",
      "          [ 0.4439, -2.0193, -0.7398]]],\n",
      "\n",
      "\n",
      "        [[[-1.1494,  0.5393,  0.4033],\n",
      "          [-0.5575,  0.6111, -1.3966],\n",
      "          [ 0.3549, -0.3695, -1.0536]],\n",
      "\n",
      "         [[-0.7359,  0.1259,  0.2539],\n",
      "          [ 0.4155, -0.6794,  0.8132],\n",
      "          [-2.5543,  0.4471,  0.9649]],\n",
      "\n",
      "         [[-0.1246, -2.6066, -0.9171],\n",
      "          [-0.6439,  0.7558, -0.7825],\n",
      "          [-1.1822, -0.4257, -0.7196]],\n",
      "\n",
      "         [[-0.8567, -0.5567,  1.0302],\n",
      "          [ 1.1080,  2.3655,  0.5042],\n",
      "          [-0.3555, -1.2765,  0.1504]]]])\n"
     ]
    }
   ],
   "metadata": {}
  },
  {
   "cell_type": "code",
   "execution_count": 4,
   "source": [
    "tensor_a_T = tensor_a.permute(0,2,3,1).contiguous()\n",
    "tensor_b_T = tensor_b.permute(0,2,3,1).contiguous()\n",
    "print(\"tensor_a_T.size()=\", tensor_a_T.size())\n",
    "print(\"tensor_b_T.size()=\", tensor_b_T.size())"
   ],
   "outputs": [
    {
     "output_type": "stream",
     "name": "stdout",
     "text": [
      "tensor_a_T.size()= torch.Size([2, 2, 2, 4])\n",
      "tensor_b_T.size()= torch.Size([2, 3, 3, 4])\n"
     ]
    }
   ],
   "metadata": {}
  },
  {
   "cell_type": "code",
   "execution_count": 5,
   "source": [
    "tensor_cat = torch.cat([tensor_a_T.view(2,-1,4), tensor_b_T.view(2,-1,4)], dim=1)\n",
    "print(\"tensor_cat.size()=\", tensor_cat.size())"
   ],
   "outputs": [
    {
     "output_type": "stream",
     "name": "stdout",
     "text": [
      "tensor_cat.size()= torch.Size([2, 13, 4])\n"
     ]
    }
   ],
   "metadata": {}
  },
  {
   "cell_type": "code",
   "execution_count": 6,
   "source": [
    "tensor_l, tensor_r = torch.split(tensor_cat, [2*2, 3*3], dim=1)\n",
    "tensor_a_ = tensor_l.reshape(2,2,2,4).permute(0,3,1,2).contiguous()\n",
    "\n",
    "print(tensor_a)\n",
    "print()\n",
    "print(tensor_a_)\n",
    "print()\n",
    "print(\"tensor_a == tensor_a_ : \", 0==(tensor_a!=tensor_a_).sum())"
   ],
   "outputs": [
    {
     "output_type": "stream",
     "name": "stdout",
     "text": [
      "tensor([[[[-0.7536,  0.3687],\n",
      "          [-1.7762, -1.7377]],\n",
      "\n",
      "         [[ 0.3315, -0.4378],\n",
      "          [-0.3665, -0.7352]],\n",
      "\n",
      "         [[-0.3099,  0.0761],\n",
      "          [ 0.5110,  0.2858]],\n",
      "\n",
      "         [[ 0.8917, -1.2555],\n",
      "          [-1.6571,  0.8179]]],\n",
      "\n",
      "\n",
      "        [[[-0.5506, -0.5262],\n",
      "          [-0.2250,  1.3002]],\n",
      "\n",
      "         [[ 1.6878, -2.6623],\n",
      "          [ 0.1684,  0.3415]],\n",
      "\n",
      "         [[-0.3902, -1.2010],\n",
      "          [ 0.7101,  0.8836]],\n",
      "\n",
      "         [[ 1.1402,  1.0461],\n",
      "          [-0.1573,  0.1047]]]])\n",
      "\n",
      "tensor([[[[-0.7536,  0.3687],\n",
      "          [-1.7762, -1.7377]],\n",
      "\n",
      "         [[ 0.3315, -0.4378],\n",
      "          [-0.3665, -0.7352]],\n",
      "\n",
      "         [[-0.3099,  0.0761],\n",
      "          [ 0.5110,  0.2858]],\n",
      "\n",
      "         [[ 0.8917, -1.2555],\n",
      "          [-1.6571,  0.8179]]],\n",
      "\n",
      "\n",
      "        [[[-0.5506, -0.5262],\n",
      "          [-0.2250,  1.3002]],\n",
      "\n",
      "         [[ 1.6878, -2.6623],\n",
      "          [ 0.1684,  0.3415]],\n",
      "\n",
      "         [[-0.3902, -1.2010],\n",
      "          [ 0.7101,  0.8836]],\n",
      "\n",
      "         [[ 1.1402,  1.0461],\n",
      "          [-0.1573,  0.1047]]]])\n",
      "\n",
      "tensor_a == tensor_a_ :  tensor(True)\n"
     ]
    }
   ],
   "metadata": {}
  },
  {
   "cell_type": "code",
   "execution_count": 7,
   "source": [
    "print(\"tensor_a[0]=\")\n",
    "print(tensor_a[0])\n",
    "\n",
    "tensor_a_0 = tensor_l[0].reshape(2,2,4).permute(2,0,1).contiguous()\n",
    "print(\"tensor_a_0=\")\n",
    "print(tensor_a_0)\n",
    "\n",
    "print()\n",
    "print(\"tensor_a[0] == tensor_a_0 : \", 0==(tensor_a[0]!=tensor_a_0).sum())"
   ],
   "outputs": [
    {
     "output_type": "stream",
     "name": "stdout",
     "text": [
      "tensor_a[0]=\n",
      "tensor([[[-0.7536,  0.3687],\n",
      "         [-1.7762, -1.7377]],\n",
      "\n",
      "        [[ 0.3315, -0.4378],\n",
      "         [-0.3665, -0.7352]],\n",
      "\n",
      "        [[-0.3099,  0.0761],\n",
      "         [ 0.5110,  0.2858]],\n",
      "\n",
      "        [[ 0.8917, -1.2555],\n",
      "         [-1.6571,  0.8179]]])\n",
      "tensor_a_0=\n",
      "tensor([[[-0.7536,  0.3687],\n",
      "         [-1.7762, -1.7377]],\n",
      "\n",
      "        [[ 0.3315, -0.4378],\n",
      "         [-0.3665, -0.7352]],\n",
      "\n",
      "        [[-0.3099,  0.0761],\n",
      "         [ 0.5110,  0.2858]],\n",
      "\n",
      "        [[ 0.8917, -1.2555],\n",
      "         [-1.6571,  0.8179]]])\n",
      "\n",
      "tensor_a[0] == tensor_a_0 :  tensor(True)\n"
     ]
    }
   ],
   "metadata": {}
  }
 ],
 "metadata": {
  "kernelspec": {
   "name": "python3",
   "display_name": "Python 3.8.8 64-bit ('pytorch': conda)"
  },
  "language_info": {
   "codemirror_mode": {
    "name": "ipython",
    "version": 3
   },
   "file_extension": ".py",
   "mimetype": "text/x-python",
   "name": "python",
   "nbconvert_exporter": "python",
   "pygments_lexer": "ipython3",
   "version": "3.8.8"
  },
  "interpreter": {
   "hash": "53edb8f011b044452549a44c1d9658d9c9d50cc4e7d28434145ce398b8c1a887"
  }
 },
 "nbformat": 4,
 "nbformat_minor": 5
}