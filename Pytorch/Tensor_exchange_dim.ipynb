{
 "cells": [
  {
   "cell_type": "markdown",
   "source": [
    "# Tensor Exchange Dimension"
   ],
   "metadata": {}
  },
  {
   "cell_type": "code",
   "execution_count": 1,
   "source": [
    "import torch\n",
    "import numpy as np"
   ],
   "outputs": [],
   "metadata": {}
  },
  {
   "cell_type": "code",
   "execution_count": 2,
   "source": [
    "tensor_a = torch.randn(2,4,2,2)\n",
    "tensor_b = torch.randn(2,4,3,3)\n",
    "print(\"tensor_a.size()=\", tensor_a.size())\n",
    "print(\"tensor_b.size()=\", tensor_b.size())\n",
    "print(\"---------------------------------------------------------------\")\n",
    "print(tensor_a)\n",
    "print(\"---------------------------------------------------------------\")\n",
    "print(tensor_b)"
   ],
   "outputs": [
    {
     "output_type": "stream",
     "name": "stdout",
     "text": [
      "tensor_a.size()= torch.Size([2, 4, 2, 2])\n",
      "tensor_b.size()= torch.Size([2, 4, 3, 3])\n",
      "---------------------------------------------------------------\n",
      "tensor([[[[-0.2950, -0.1049],\n",
      "          [ 0.4943,  0.8125]],\n",
      "\n",
      "         [[ 1.8520, -1.3790],\n",
      "          [ 0.4468,  0.5885]],\n",
      "\n",
      "         [[-0.2927,  1.1160],\n",
      "          [-1.6372, -0.5932]],\n",
      "\n",
      "         [[ 0.4793, -0.3600],\n",
      "          [-0.2236,  1.2922]]],\n",
      "\n",
      "\n",
      "        [[[-1.4692, -0.4598],\n",
      "          [-0.2514, -0.9780]],\n",
      "\n",
      "         [[-1.2009,  0.1763],\n",
      "          [ 1.6051, -1.8427]],\n",
      "\n",
      "         [[-0.2851, -0.6409],\n",
      "          [-0.0876, -0.2794]],\n",
      "\n",
      "         [[ 0.5338, -1.8694],\n",
      "          [-1.0536, -1.4762]]]])\n",
      "---------------------------------------------------------------\n",
      "tensor([[[[-0.4113,  1.3919, -1.1065],\n",
      "          [ 0.1296,  0.5952,  1.0343],\n",
      "          [ 1.2083,  0.4739, -0.0143]],\n",
      "\n",
      "         [[-0.4079,  1.0941,  0.8205],\n",
      "          [-1.1087,  1.1520, -0.7836],\n",
      "          [-2.2417,  1.2064, -0.4478]],\n",
      "\n",
      "         [[-0.7065,  0.3862,  0.5779],\n",
      "          [-0.1144,  1.1310, -0.2665],\n",
      "          [ 1.2679,  0.4985,  0.0648]],\n",
      "\n",
      "         [[-1.1254,  0.3038,  0.4832],\n",
      "          [-0.9420, -0.0581, -0.5924],\n",
      "          [ 0.5648,  1.3868, -1.0966]]],\n",
      "\n",
      "\n",
      "        [[[-0.3513, -2.0981, -0.7465],\n",
      "          [-0.0987, -0.8565,  1.4171],\n",
      "          [-0.6211, -1.7424,  0.7764]],\n",
      "\n",
      "         [[ 0.6589, -0.4590,  0.3061],\n",
      "          [-0.3507,  0.5878, -0.7219],\n",
      "          [ 0.2009, -0.5646, -0.2247]],\n",
      "\n",
      "         [[-1.7557, -0.8655,  0.7458],\n",
      "          [ 1.7211,  0.8184, -0.3025],\n",
      "          [-0.1044,  0.3562,  0.9727]],\n",
      "\n",
      "         [[ 0.1422,  0.2401, -1.5070],\n",
      "          [ 0.2745,  0.2974, -0.6171],\n",
      "          [ 0.0970, -0.1871,  0.6697]]]])\n"
     ]
    }
   ],
   "metadata": {}
  },
  {
   "cell_type": "code",
   "execution_count": 3,
   "source": [
    "tensor_a_T = tensor_a.permute(0,2,3,1).contiguous()\n",
    "tensor_b_T = tensor_b.permute(0,2,3,1).contiguous()\n",
    "print(\"tensor_a_T.size()=\", tensor_a_T.size())\n",
    "print(\"tensor_b_T.size()=\", tensor_b_T.size())"
   ],
   "outputs": [
    {
     "output_type": "stream",
     "name": "stdout",
     "text": [
      "tensor_a_T.size()= torch.Size([2, 2, 2, 4])\n",
      "tensor_b_T.size()= torch.Size([2, 3, 3, 4])\n"
     ]
    }
   ],
   "metadata": {}
  },
  {
   "cell_type": "code",
   "execution_count": 4,
   "source": [
    "tensor_cat = torch.cat([tensor_a_T.view(2,-1,4), tensor_b_T.view(2,-1,4)], dim=1)\n",
    "print(\"tensor_cat.size()=\", tensor_cat.size())"
   ],
   "outputs": [
    {
     "output_type": "stream",
     "name": "stdout",
     "text": [
      "tensor_cat.size()= torch.Size([2, 13, 4])\n"
     ]
    }
   ],
   "metadata": {}
  },
  {
   "cell_type": "code",
   "execution_count": 12,
   "source": [
    "tensor_l, tensor_r = torch.split(tensor_cat, [2*2, 3*3], dim=1)\n",
    "tensor_a_ = tensor_l.reshape(2,2,2,4).permute(0,3,1,2).contiguous()\n",
    "\n",
    "print(tensor_a)\n",
    "print()\n",
    "print(tensor_a_)\n",
    "print()\n",
    "print(\"tensor_a == tensor_a_ : \", 0==(tensor_a!=tensor_a_).sum())"
   ],
   "outputs": [
    {
     "output_type": "stream",
     "name": "stdout",
     "text": [
      "tensor([[[[-0.2950, -0.1049],\n",
      "          [ 0.4943,  0.8125]],\n",
      "\n",
      "         [[ 1.8520, -1.3790],\n",
      "          [ 0.4468,  0.5885]],\n",
      "\n",
      "         [[-0.2927,  1.1160],\n",
      "          [-1.6372, -0.5932]],\n",
      "\n",
      "         [[ 0.4793, -0.3600],\n",
      "          [-0.2236,  1.2922]]],\n",
      "\n",
      "\n",
      "        [[[-1.4692, -0.4598],\n",
      "          [-0.2514, -0.9780]],\n",
      "\n",
      "         [[-1.2009,  0.1763],\n",
      "          [ 1.6051, -1.8427]],\n",
      "\n",
      "         [[-0.2851, -0.6409],\n",
      "          [-0.0876, -0.2794]],\n",
      "\n",
      "         [[ 0.5338, -1.8694],\n",
      "          [-1.0536, -1.4762]]]])\n",
      "\n",
      "tensor([[[[-0.2950, -0.1049],\n",
      "          [ 0.4943,  0.8125]],\n",
      "\n",
      "         [[ 1.8520, -1.3790],\n",
      "          [ 0.4468,  0.5885]],\n",
      "\n",
      "         [[-0.2927,  1.1160],\n",
      "          [-1.6372, -0.5932]],\n",
      "\n",
      "         [[ 0.4793, -0.3600],\n",
      "          [-0.2236,  1.2922]]],\n",
      "\n",
      "\n",
      "        [[[-1.4692, -0.4598],\n",
      "          [-0.2514, -0.9780]],\n",
      "\n",
      "         [[-1.2009,  0.1763],\n",
      "          [ 1.6051, -1.8427]],\n",
      "\n",
      "         [[-0.2851, -0.6409],\n",
      "          [-0.0876, -0.2794]],\n",
      "\n",
      "         [[ 0.5338, -1.8694],\n",
      "          [-1.0536, -1.4762]]]])\n",
      "\n",
      "tensor_a == tensor_a_ :  tensor(True)\n"
     ]
    }
   ],
   "metadata": {}
  }
 ],
 "metadata": {
  "kernelspec": {
   "name": "python3",
   "display_name": "Python 3.8.8 64-bit ('pytorch': conda)"
  },
  "language_info": {
   "codemirror_mode": {
    "name": "ipython",
    "version": 3
   },
   "file_extension": ".py",
   "mimetype": "text/x-python",
   "name": "python",
   "nbconvert_exporter": "python",
   "pygments_lexer": "ipython3",
   "version": "3.8.8"
  },
  "interpreter": {
   "hash": "53edb8f011b044452549a44c1d9658d9c9d50cc4e7d28434145ce398b8c1a887"
  }
 },
 "nbformat": 4,
 "nbformat_minor": 5
}